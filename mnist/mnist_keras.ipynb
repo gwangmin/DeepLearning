{
 "cells": [
  {
   "cell_type": "code",
   "execution_count": null,
   "metadata": {
    "colab": {
     "base_uri": "https://localhost:8080/",
     "height": 323
    },
    "colab_type": "code",
    "executionInfo": {
     "elapsed": 74724,
     "status": "ok",
     "timestamp": 1542085609765,
     "user": {
      "displayName": "광민",
      "photoUrl": "https://lh6.googleusercontent.com/-ouVPyQeNSmg/AAAAAAAAAAI/AAAAAAAAAUw/5kFTijdB2sQ/s64/photo.jpg",
      "userId": "10173085182765205573"
     },
     "user_tz": -540
    },
    "id": "dVORFCc7w4U9",
    "outputId": "c01b89fb-5549-4b73-8cdb-26ca22980fcb"
   },
   "outputs": [
    {
     "name": "stderr",
     "output_type": "stream",
     "text": [
      "Using TensorFlow backend.\n"
     ]
    },
    {
     "name": "stdout",
     "output_type": "stream",
     "text": [
      "Downloading data from https://s3.amazonaws.com/img-datasets/mnist.npz\n",
      "11493376/11490434 [==============================] - 1s 0us/step\n",
      "11501568/11490434 [==============================] - 1s 0us/step\n",
      "(60000, 28, 28)\n",
      "(60000, 28, 28, 1)\n",
      "Epoch 1/5\n",
      "60000/60000 [==============================] - 16s 263us/step - loss: 0.2779 - acc: 0.9180\n",
      "Epoch 2/5\n",
      "60000/60000 [==============================] - 12s 202us/step - loss: 0.1295 - acc: 0.9614\n",
      "Epoch 3/5\n",
      "60000/60000 [==============================] - 12s 204us/step - loss: 0.1033 - acc: 0.9693\n",
      "Epoch 4/5\n",
      "60000/60000 [==============================] - 12s 206us/step - loss: 0.0882 - acc: 0.9736\n",
      "Epoch 5/5\n",
      "60000/60000 [==============================] - 12s 204us/step - loss: 0.0783 - acc: 0.9758\n",
      "10000/10000 [==============================] - 1s 81us/step\n",
      "[0.05432006399324164, 0.982]\n"
     ]
    }
   ],
   "source": [
    "from keras.models import Sequential\n",
    "from keras.layers import Dense, Conv2D, MaxPooling2D, Dropout, Flatten\n",
    "from keras.datasets import mnist\n",
    "from keras.utils import np_utils\n",
    "\n",
    "#load dataset\n",
    "(x_train, y_train), (x_test, y_test) = mnist.load_data()\n",
    "print(x_train.shape)\n",
    "\n",
    "x_train = x_train.reshape(x_train.shape[0], 28, 28, 1)\n",
    "x_test = x_test.reshape(x_test.shape[0], 28, 28, 1)\n",
    "print(x_train.shape)\n",
    "\n",
    "x_train = x_train.astype('float32') / 255.\n",
    "x_test = x_test.astype('float32') / 255.\n",
    "\n",
    "y_train = np_utils.to_categorical(y_train,10)\n",
    "y_test = np_utils.to_categorical(y_test,10)\n",
    "\n",
    "# create model\n",
    "m = Sequential()\n",
    "m.add(Conv2D(32,(3,3),activation='relu',padding='same'))\n",
    "m.add(MaxPooling2D((2,2),padding='same'))\n",
    "m.add(Dropout(0.5))\n",
    "m.add(Flatten())\n",
    "m.add(Dense(10,activation='softmax'))\n",
    "\n",
    "m.compile(loss='categorical_crossentropy',optimizer='adam',metrics=['accuracy'])\n",
    "\n",
    "#training\n",
    "m.fit(x_train,y_train,epochs=5)\n",
    "\n",
    "#test\n",
    "print m.evaluate(x_test,y_test)"
   ]
  }
 ],
 "metadata": {
  "accelerator": "GPU",
  "colab": {
   "collapsed_sections": [],
   "name": "mnist_keras.ipynb",
   "provenance": [],
   "version": "0.3.2"
  },
  "kernelspec": {
   "display_name": "Python 3",
   "language": "python",
   "name": "python3"
  },
  "language_info": {
   "codemirror_mode": {
    "name": "ipython",
    "version": 3
   },
   "file_extension": ".py",
   "mimetype": "text/x-python",
   "name": "python",
   "nbconvert_exporter": "python",
   "pygments_lexer": "ipython3",
   "version": "3.6.8"
  }
 },
 "nbformat": 4,
 "nbformat_minor": 2
}
